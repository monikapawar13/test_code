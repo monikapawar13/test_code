{
 "cells": [
  {
   "cell_type": "code",
   "execution_count": 1,
   "id": "79425d07",
   "metadata": {
    "_cell_guid": "b1076dfc-b9ad-4769-8c92-a6c4dae69d19",
    "_uuid": "8f2839f25d086af736a60e9eeb907d3b93b6e0e5",
    "execution": {
     "iopub.execute_input": "2023-12-09T08:04:36.835618Z",
     "iopub.status.busy": "2023-12-09T08:04:36.835275Z",
     "iopub.status.idle": "2023-12-09T08:04:57.061445Z",
     "shell.execute_reply": "2023-12-09T08:04:57.060594Z"
    },
    "papermill": {
     "duration": 20.235885,
     "end_time": "2023-12-09T08:04:57.063900",
     "exception": false,
     "start_time": "2023-12-09T08:04:36.828015",
     "status": "completed"
    },
    "tags": []
   },
   "outputs": [
    {
     "name": "stderr",
     "output_type": "stream",
     "text": [
      "/opt/conda/lib/python3.10/site-packages/scipy/__init__.py:146: UserWarning: A NumPy version >=1.16.5 and <1.23.0 is required for this version of SciPy (detected version 1.24.3\n",
      "  warnings.warn(f\"A NumPy version >={np_minversion} and <{np_maxversion}\"\n"
     ]
    }
   ],
   "source": [
    "from tensorflow.keras.applications import InceptionV3\n",
    "from tensorflow.keras.layers import Dense, GlobalAveragePooling2D, Dropout, Flatten, Input\n",
    "from tensorflow.keras.applications.inception_v3 import preprocess_input\n",
    "from tensorflow.keras.layers import Flatten, Dense, Dropout, Input\n",
    "from tensorflow.keras.models import Model\n",
    "from tensorflow.keras.optimizers import Adam\n",
    "from tensorflow.keras.utils import to_categorical\n",
    "from tensorflow.keras.preprocessing.image import ImageDataGenerator\n",
    "from tensorflow.keras.callbacks import EarlyStopping\n",
    "from tensorflow.keras.applications import ResNet50\n",
    "from keras.applications import InceptionV3\n",
    "from keras.layers import GlobalAveragePooling2D, Dense, Dropout, BatchNormalization\n",
    "from keras.callbacks import LearningRateScheduler, EarlyStopping, ModelCheckpoint, ReduceLROnPlateau\n",
    "\n",
    "import numpy as np\n",
    "from sklearn.metrics import classification_report\n",
    "import time "
   ]
  },
  {
   "cell_type": "code",
   "execution_count": 2,
   "id": "88c63754",
   "metadata": {
    "execution": {
     "iopub.execute_input": "2023-12-09T08:04:57.075878Z",
     "iopub.status.busy": "2023-12-09T08:04:57.075265Z",
     "iopub.status.idle": "2023-12-09T08:04:57.088925Z",
     "shell.execute_reply": "2023-12-09T08:04:57.087965Z"
    },
    "papermill": {
     "duration": 0.021625,
     "end_time": "2023-12-09T08:04:57.090885",
     "exception": false,
     "start_time": "2023-12-09T08:04:57.069260",
     "status": "completed"
    },
    "tags": []
   },
   "outputs": [
    {
     "name": "stdout",
     "output_type": "stream",
     "text": [
      "Contents of the directory:\n",
      "labels\n",
      "images\n",
      "\n",
      "Number of directories: 2\n"
     ]
    }
   ],
   "source": [
    "import os\n",
    "\n",
    "directory = '/kaggle/input/weedcrop-image-dataset/WeedCrop.v1i.yolov5pytorch/train'\n",
    "contents = os.listdir(directory)\n",
    "num_of_dirs = len([name for name in contents if os.path.isdir(os.path.join(directory, name))])\n",
    "\n",
    "print(\"Contents of the directory:\")\n",
    "for item in contents:\n",
    "    print(item)\n",
    "\n",
    "print(f\"\\nNumber of directories: {num_of_dirs}\")\n"
   ]
  },
  {
   "cell_type": "code",
   "execution_count": 3,
   "id": "1e0763ab",
   "metadata": {
    "execution": {
     "iopub.execute_input": "2023-12-09T08:04:57.101979Z",
     "iopub.status.busy": "2023-12-09T08:04:57.101655Z",
     "iopub.status.idle": "2023-12-09T08:04:57.108998Z",
     "shell.execute_reply": "2023-12-09T08:04:57.108181Z"
    },
    "papermill": {
     "duration": 0.015046,
     "end_time": "2023-12-09T08:04:57.110872",
     "exception": false,
     "start_time": "2023-12-09T08:04:57.095826",
     "status": "completed"
    },
    "tags": []
   },
   "outputs": [
    {
     "name": "stdout",
     "output_type": "stream",
     "text": [
      "No images found in the directory.\n"
     ]
    }
   ],
   "source": [
    "from PIL import Image\n",
    "import os\n",
    "\n",
    "# Define the directory path\n",
    "directory_path = '/kaggle/input/weedcrop-image-dataset/WeedCrop.v1i.yolov5pytorch/train'\n",
    "\n",
    "# List all files in the directory\n",
    "file_names = os.listdir(directory_path)\n",
    "\n",
    "# Load images from the directory\n",
    "images = []\n",
    "for file_name in file_names:\n",
    "    if file_name.endswith('.png') or file_name.endswith('.jpg') or file_name.endswith('.jpeg'):\n",
    "        image_path = os.path.join(directory_path, file_name)\n",
    "        image = Image.open(image_path)\n",
    "        images.append(image)\n",
    "\n",
    "# Process the images as required\n",
    "# ...\n",
    "\n",
    "# Example: Showing the first image\n",
    "if images:\n",
    "    images[0].show()\n",
    "else:\n",
    "    print(\"No images found in the directory.\")"
   ]
  },
  {
   "cell_type": "code",
   "execution_count": 4,
   "id": "b9471b34",
   "metadata": {
    "execution": {
     "iopub.execute_input": "2023-12-09T08:04:57.122405Z",
     "iopub.status.busy": "2023-12-09T08:04:57.122141Z",
     "iopub.status.idle": "2023-12-09T08:04:57.127290Z",
     "shell.execute_reply": "2023-12-09T08:04:57.126538Z"
    },
    "papermill": {
     "duration": 0.012892,
     "end_time": "2023-12-09T08:04:57.129117",
     "exception": false,
     "start_time": "2023-12-09T08:04:57.116225",
     "status": "completed"
    },
    "tags": []
   },
   "outputs": [],
   "source": [
    "# Define parameters\n",
    "batch_size = 128\n",
    "num_epochs = 10\n",
    "image_size = (139, 139)\n",
    "num_classes = 2\n"
   ]
  },
  {
   "cell_type": "code",
   "execution_count": 5,
   "id": "cba3476a",
   "metadata": {
    "execution": {
     "iopub.execute_input": "2023-12-09T08:04:57.140502Z",
     "iopub.status.busy": "2023-12-09T08:04:57.140228Z",
     "iopub.status.idle": "2023-12-09T08:05:06.091882Z",
     "shell.execute_reply": "2023-12-09T08:05:06.091048Z"
    },
    "papermill": {
     "duration": 8.960022,
     "end_time": "2023-12-09T08:05:06.094321",
     "exception": false,
     "start_time": "2023-12-09T08:04:57.134299",
     "status": "completed"
    },
    "tags": []
   },
   "outputs": [
    {
     "name": "stdout",
     "output_type": "stream",
     "text": [
      "Downloading data from https://storage.googleapis.com/tensorflow/keras-applications/inception_v3/inception_v3_weights_tf_dim_ordering_tf_kernels_notop.h5\n",
      "87910968/87910968 [==============================] - 0s 0us/step\n"
     ]
    }
   ],
   "source": [
    "# Load the InceptionV3 model\n",
    "base_model = InceptionV3(weights='imagenet', include_top=False, input_shape=(*image_size, 3))\n",
    "\n",
    "# Freeze the layers of the base model\n",
    "for layer in base_model.layers:\n",
    "    layer.trainable = False\n"
   ]
  },
  {
   "cell_type": "code",
   "execution_count": 6,
   "id": "559e5db5",
   "metadata": {
    "execution": {
     "iopub.execute_input": "2023-12-09T08:05:06.108612Z",
     "iopub.status.busy": "2023-12-09T08:05:06.108279Z",
     "iopub.status.idle": "2023-12-09T08:05:06.171617Z",
     "shell.execute_reply": "2023-12-09T08:05:06.170797Z"
    },
    "papermill": {
     "duration": 0.073046,
     "end_time": "2023-12-09T08:05:06.173919",
     "exception": false,
     "start_time": "2023-12-09T08:05:06.100873",
     "status": "completed"
    },
    "tags": []
   },
   "outputs": [],
   "source": [
    "# Add custom classification layers\n",
    "x = base_model.output\n",
    "x = GlobalAveragePooling2D()(x)\n",
    "x = Dense(256, activation='relu')(x)\n",
    "x = BatchNormalization()(x)\n",
    "x = Dropout(0.5)(x)\n",
    "class_outputs = Dense(num_classes, activation='softmax')(x)\n"
   ]
  },
  {
   "cell_type": "code",
   "execution_count": 7,
   "id": "380c059c",
   "metadata": {
    "execution": {
     "iopub.execute_input": "2023-12-09T08:05:06.188963Z",
     "iopub.status.busy": "2023-12-09T08:05:06.188665Z",
     "iopub.status.idle": "2023-12-09T08:10:38.602852Z",
     "shell.execute_reply": "2023-12-09T08:10:38.601907Z"
    },
    "papermill": {
     "duration": 332.424204,
     "end_time": "2023-12-09T08:10:38.604952",
     "exception": false,
     "start_time": "2023-12-09T08:05:06.180748",
     "status": "completed"
    },
    "tags": []
   },
   "outputs": [
    {
     "name": "stdout",
     "output_type": "stream",
     "text": [
      "Found 2469 images belonging to 2 classes.\n",
      "Found 235 images belonging to 2 classes.\n",
      "Epoch 1/10\n",
      "20/20 [==============================] - ETA: 0s - loss: 0.9854 - accuracy: 0.5520\n",
      "Epoch 1: val_accuracy improved from -inf to 1.00000, saving model to best_model.h5\n"
     ]
    },
    {
     "name": "stderr",
     "output_type": "stream",
     "text": [
      "/opt/conda/lib/python3.10/site-packages/keras/src/engine/training.py:3000: UserWarning: You are saving your model as an HDF5 file via `model.save()`. This file format is considered legacy. We recommend using instead the native Keras format, e.g. `model.save('my_model.keras')`.\n",
      "  saving_api.save_model(\n"
     ]
    },
    {
     "name": "stdout",
     "output_type": "stream",
     "text": [
      "20/20 [==============================] - 61s 2s/step - loss: 0.9854 - accuracy: 0.5520 - val_loss: 0.1529 - val_accuracy: 1.0000 - lr: 0.0010\n",
      "Epoch 2/10\n",
      "20/20 [==============================] - ETA: 0s - loss: 0.6183 - accuracy: 0.6962\n",
      "Epoch 2: val_accuracy did not improve from 1.00000\n",
      "20/20 [==============================] - 29s 1s/step - loss: 0.6183 - accuracy: 0.6962 - val_loss: 0.4921 - val_accuracy: 0.8213 - lr: 0.0010\n",
      "Epoch 3/10\n",
      "20/20 [==============================] - ETA: 0s - loss: 0.4151 - accuracy: 0.8408\n",
      "Epoch 3: val_accuracy did not improve from 1.00000\n",
      "20/20 [==============================] - 29s 1s/step - loss: 0.4151 - accuracy: 0.8408 - val_loss: 0.2174 - val_accuracy: 1.0000 - lr: 0.0010\n",
      "Epoch 4/10\n",
      "20/20 [==============================] - ETA: 0s - loss: 0.2695 - accuracy: 0.9259\n",
      "Epoch 4: val_accuracy did not improve from 1.00000\n",
      "20/20 [==============================] - 29s 1s/step - loss: 0.2695 - accuracy: 0.9259 - val_loss: 0.1896 - val_accuracy: 0.9915 - lr: 0.0010\n",
      "Epoch 5/10\n",
      "20/20 [==============================] - ETA: 0s - loss: 0.1738 - accuracy: 0.9668\n",
      "Epoch 5: val_accuracy did not improve from 1.00000\n",
      "20/20 [==============================] - 28s 1s/step - loss: 0.1738 - accuracy: 0.9668 - val_loss: 0.1256 - val_accuracy: 1.0000 - lr: 0.0010\n",
      "Epoch 6/10\n",
      "20/20 [==============================] - ETA: 0s - loss: 0.1110 - accuracy: 0.9907\n",
      "Epoch 6: val_accuracy did not improve from 1.00000\n",
      "20/20 [==============================] - 29s 1s/step - loss: 0.1110 - accuracy: 0.9907 - val_loss: 0.0747 - val_accuracy: 1.0000 - lr: 0.0010\n",
      "Epoch 7/10\n",
      "20/20 [==============================] - ETA: 0s - loss: 0.0686 - accuracy: 0.9943\n",
      "Epoch 7: val_accuracy did not improve from 1.00000\n",
      "20/20 [==============================] - 29s 1s/step - loss: 0.0686 - accuracy: 0.9943 - val_loss: 0.0339 - val_accuracy: 1.0000 - lr: 0.0010\n",
      "Epoch 8/10\n",
      "20/20 [==============================] - ETA: 0s - loss: 0.0483 - accuracy: 0.9972\n",
      "Epoch 8: val_accuracy did not improve from 1.00000\n",
      "20/20 [==============================] - 29s 1s/step - loss: 0.0483 - accuracy: 0.9972 - val_loss: 0.0292 - val_accuracy: 1.0000 - lr: 0.0010\n",
      "Epoch 9/10\n",
      "20/20 [==============================] - ETA: 0s - loss: 0.0344 - accuracy: 0.9988\n",
      "Epoch 9: val_accuracy did not improve from 1.00000\n",
      "20/20 [==============================] - 33s 2s/step - loss: 0.0344 - accuracy: 0.9988 - val_loss: 0.0182 - val_accuracy: 1.0000 - lr: 0.0010\n",
      "Epoch 10/10\n",
      "20/20 [==============================] - ETA: 0s - loss: 0.0253 - accuracy: 0.9992\n",
      "Epoch 10: val_accuracy did not improve from 1.00000\n",
      "20/20 [==============================] - 29s 1s/step - loss: 0.0253 - accuracy: 0.9992 - val_loss: 0.0145 - val_accuracy: 1.0000 - lr: 0.0010\n"
     ]
    }
   ],
   "source": [
    "\n",
    "# Create the model\n",
    "model = Model(inputs=base_model.input, outputs=class_outputs)\n",
    "\n",
    "# Compile the model\n",
    "model.compile(loss='categorical_crossentropy', optimizer=Adam(lr=0.001), metrics=['accuracy'])\n",
    "\n",
    "# Load the training data with aggressive data augmentation\n",
    "train_datagen = ImageDataGenerator(\n",
    "    rescale=1./255,\n",
    "    rotation_range=45,\n",
    "    width_shift_range=0.3,\n",
    "    height_shift_range=0.3,\n",
    "    shear_range=0.3,\n",
    "    zoom_range=0.3,\n",
    "    horizontal_flip=True,\n",
    "    fill_mode='nearest'\n",
    ")\n",
    "\n",
    "train_dataset = train_datagen.flow_from_directory(\n",
    "    '/kaggle/input/weedcrop-image-dataset/WeedCrop.v1i.yolov5pytorch/train',\n",
    "    target_size=(139, 139),\n",
    "    batch_size=batch_size,\n",
    "    class_mode='categorical'\n",
    ")\n",
    "\n",
    "# Load the validation data with moderate data augmentation\n",
    "val_datagen = ImageDataGenerator(\n",
    "    rescale=1./255,\n",
    "    rotation_range=20,\n",
    "    width_shift_range=0.2,\n",
    "    height_shift_range=0.2,\n",
    "    shear_range=0.2,\n",
    "    zoom_range=0.2,\n",
    "    horizontal_flip=True,\n",
    "    fill_mode='nearest'\n",
    ")\n",
    "\n",
    "val_dataset = val_datagen.flow_from_directory(\n",
    "    '/kaggle/input/weedcrop-image-dataset/WeedCrop.v1i.yolov5pytorch/valid',\n",
    "    target_size=(139, 139),\n",
    "    batch_size=batch_size,\n",
    "    class_mode='categorical'\n",
    ")\n",
    "\n",
    "# Define learning rate scheduler\n",
    "def lr_scheduler(epoch):\n",
    "    if epoch < 10:\n",
    "        return 0.001\n",
    "    elif 10 <= epoch < 20:\n",
    "        return 0.0001\n",
    "    else:\n",
    "        return 0.00001\n",
    "\n",
    "lr_schedule = LearningRateScheduler(lr_scheduler)\n",
    "\n",
    "# Define early stopping\n",
    "early_stop = EarlyStopping(monitor='val_loss', patience=5, restore_best_weights=True)\n",
    "\n",
    "# Define model checkpoint to save the best model\n",
    "checkpoint = ModelCheckpoint('best_model.h5', monitor='val_accuracy', save_best_only=True, mode='max', verbose=1)\n",
    "# Define ReduceLROnPlateau callback\n",
    "reduce_lr = ReduceLROnPlateau(monitor='val_loss', factor=0.2, patience=3, min_lr=1e-6)\n",
    "\n",
    "# Train the model\n",
    "history = model.fit(\n",
    "    train_dataset,\n",
    "    epochs=num_epochs,\n",
    "    validation_data=val_dataset,\n",
    "    callbacks=[lr_schedule, early_stop, checkpoint, reduce_lr]\n",
    ")\n",
    "\n"
   ]
  },
  {
   "cell_type": "code",
   "execution_count": 8,
   "id": "eebc0423",
   "metadata": {
    "execution": {
     "iopub.execute_input": "2023-12-09T08:10:38.655719Z",
     "iopub.status.busy": "2023-12-09T08:10:38.655412Z",
     "iopub.status.idle": "2023-12-09T08:10:38.659380Z",
     "shell.execute_reply": "2023-12-09T08:10:38.658465Z"
    },
    "papermill": {
     "duration": 0.031383,
     "end_time": "2023-12-09T08:10:38.661249",
     "exception": false,
     "start_time": "2023-12-09T08:10:38.629866",
     "status": "completed"
    },
    "tags": []
   },
   "outputs": [],
   "source": [
    "# Save the model in native Keras format\n",
    "# model.save(\"/kaggle/working/\")\n",
    "\n",
    "# import joblib\n",
    "\n",
    "# # Save the model using joblib\n",
    "# joblib.dump(model, 'plant_disease_model_inception.pkl')\n"
   ]
  },
  {
   "cell_type": "code",
   "execution_count": 9,
   "id": "45d3055f",
   "metadata": {
    "execution": {
     "iopub.execute_input": "2023-12-09T08:10:38.711093Z",
     "iopub.status.busy": "2023-12-09T08:10:38.710820Z",
     "iopub.status.idle": "2023-12-09T08:10:41.228465Z",
     "shell.execute_reply": "2023-12-09T08:10:41.227344Z"
    },
    "papermill": {
     "duration": 2.545371,
     "end_time": "2023-12-09T08:10:41.230735",
     "exception": false,
     "start_time": "2023-12-09T08:10:38.685364",
     "status": "completed"
    },
    "tags": []
   },
   "outputs": [
    {
     "name": "stdout",
     "output_type": "stream",
     "text": [
      "1/1 [==============================] - 2s 2s/step\n",
      "[[0.02165188 0.9783481 ]]\n"
     ]
    }
   ],
   "source": [
    "from keras.preprocessing import image\n",
    "from keras.applications.vgg16 import preprocess_input\n",
    "import numpy as np\n",
    "img_path = '/kaggle/input/image-only/agri_0_9527.jpeg'\n",
    "img = image.load_img(img_path, target_size=(139, 139))\n",
    "img_array = image.img_to_array(img)\n",
    "img_array = np.expand_dims(img_array, axis=0)\n",
    "img_array = preprocess_input(img_array)\n",
    "predictions = model.predict(img_array)\n",
    "print(predictions)"
   ]
  },
  {
   "cell_type": "code",
   "execution_count": 10,
   "id": "5182c2eb",
   "metadata": {
    "execution": {
     "iopub.execute_input": "2023-12-09T08:10:41.284936Z",
     "iopub.status.busy": "2023-12-09T08:10:41.284601Z",
     "iopub.status.idle": "2023-12-09T08:10:41.835414Z",
     "shell.execute_reply": "2023-12-09T08:10:41.834496Z"
    },
    "papermill": {
     "duration": 0.57934,
     "end_time": "2023-12-09T08:10:41.837474",
     "exception": false,
     "start_time": "2023-12-09T08:10:41.258134",
     "status": "completed"
    },
    "tags": []
   },
   "outputs": [
    {
     "data": {
      "image/png": "[encoded data removed]",
      "text/plain": [
       "<Figure size 640x480 with 1 Axes>"
      ]
     },
     "metadata": {},
     "output_type": "display_data"
    },
    {
     "data": {
      "image/png": "[encoded data removed]",
      "text/plain": [
       "<Figure size 640x480 with 1 Axes>"
      ]
     },
     "metadata": {},
     "output_type": "display_data"
    }
   ],
   "source": [
    "# Plot the metrics to visualize the training process\n",
    "import matplotlib.pyplot as plt\n",
    "\n",
    "def plot_metrics(history):\n",
    "    # Plot training & validation accuracy values\n",
    "    plt.plot(history.history['accuracy'])\n",
    "    plt.plot(history.history['val_accuracy'])\n",
    "    plt.title('Model accuracy')\n",
    "    plt.ylabel('Accuracy')\n",
    "    plt.xlabel('Epoch')\n",
    "    plt.legend(['Train', 'Validation'], loc='upper left')\n",
    "    plt.show()\n",
    "\n",
    "    # Plot training & validation loss values\n",
    "    plt.plot(history.history['loss'])\n",
    "    plt.plot(history.history['val_loss'])\n",
    "    plt.title('Model loss')\n",
    "    plt.ylabel('Loss')\n",
    "    plt.xlabel('Epoch')\n",
    "    plt.legend(['Train', 'Validation'], loc='upper left')\n",
    "    plt.show()\n",
    "\n",
    "plot_metrics(history)"
   ]
  },
  {
   "cell_type": "code",
   "execution_count": 11,
   "id": "e00290ef",
   "metadata": {
    "execution": {
     "iopub.execute_input": "2023-12-09T08:10:41.891405Z",
     "iopub.status.busy": "2023-12-09T08:10:41.891116Z",
     "iopub.status.idle": "2023-12-09T08:10:41.895516Z",
     "shell.execute_reply": "2023-12-09T08:10:41.894757Z"
    },
    "papermill": {
     "duration": 0.033376,
     "end_time": "2023-12-09T08:10:41.897318",
     "exception": false,
     "start_time": "2023-12-09T08:10:41.863942",
     "status": "completed"
    },
    "tags": []
   },
   "outputs": [],
   "source": [
    "# # Evaluate the model on the test data\n",
    "# test_datagen = ImageDataGenerator(rescale=1./255)\n",
    "\n",
    "# test_dataset = test_datagen.flow_from_directory(\n",
    "#     '/kaggle/input/weedcrop-image-dataset/WeedCrop.v1i.yolov5pytorch/test',\n",
    "#     target_size=(139, 139),\n",
    "#     batch_size=batch_size,\n",
    "#     class_mode='categorical'\n",
    "# )\n",
    "\n",
    "# test_labels = test_dataset.classes\n",
    "# test_labels = to_categorical(test_labels, num_classes=num_classes)\n",
    "\n",
    "# start_time = time.time()\n",
    "# y_pred = model.predict(test_dataset)\n",
    "# y_pred_bool = np.argmax(y_pred, axis=1)\n",
    "# rounded_labels = np.argmax(test_labels, axis=1)\n",
    "\n",
    "# print(classification_report(y_pred_bool, rounded_labels, digits=4))\n",
    "# print(\"Time taken to predict the model: \" + str(time.time() - start_time))\n",
    "\n",
    "# # Save the model\n",
    "# model.save('plant_disease_model_inception.h5')\n"
   ]
  },
  {
   "cell_type": "code",
   "execution_count": 12,
   "id": "c660a5d0",
   "metadata": {
    "execution": {
     "iopub.execute_input": "2023-12-09T08:10:41.949446Z",
     "iopub.status.busy": "2023-12-09T08:10:41.949180Z",
     "iopub.status.idle": "2023-12-09T08:10:41.954248Z",
     "shell.execute_reply": "2023-12-09T08:10:41.953531Z"
    },
    "papermill": {
     "duration": 0.033291,
     "end_time": "2023-12-09T08:10:41.956184",
     "exception": false,
     "start_time": "2023-12-09T08:10:41.922893",
     "status": "completed"
    },
    "tags": []
   },
   "outputs": [],
   "source": [
    "# import tensorflow as tf\n",
    "# import numpy as np\n",
    "# import matplotlib.pyplot as plt\n",
    "# from tensorflow.keras.preprocessing import image\n",
    "# import cv2\n",
    "# import numpy as np\n",
    "# import matplotlib.pyplot as plt \n",
    "\n",
    "# # Load your trained model\n",
    "# model = tf.keras.models.load_model('/kaggle/working/plant_disease_model_inception.h5')  # Replace 'your_model_directory' with the path to your saved model\n",
    "\n",
    "# # Load and preprocess your image\n",
    "# img_path = '/kaggle/input/weed-detection/test/ridderzuring_3126_jpg.rf.8980b3ae3ec4ecd023aab5bc54c26089.jpg'  # Replace 'path_to_your_image.jpg' with your image file path\n",
    "# img = image.load_img(img_path, target_size=(139, 139))  # Resize to match the input size of your model\n"
   ]
  },
  {
   "cell_type": "code",
   "execution_count": 13,
   "id": "5e4a7d56",
   "metadata": {
    "execution": {
     "iopub.execute_input": "2023-12-09T08:10:42.056360Z",
     "iopub.status.busy": "2023-12-09T08:10:42.055618Z",
     "iopub.status.idle": "2023-12-09T08:10:42.060174Z",
     "shell.execute_reply": "2023-12-09T08:10:42.059282Z"
    },
    "papermill": {
     "duration": 0.078855,
     "end_time": "2023-12-09T08:10:42.062266",
     "exception": false,
     "start_time": "2023-12-09T08:10:41.983411",
     "status": "completed"
    },
    "tags": []
   },
   "outputs": [],
   "source": [
    "# # Load and preprocess your image\n",
    "# img_path = '/kaggle/input/weedcrop-image-dataset/WeedCrop.v1i.yolov5pytorch/test/images/12122_jpg.rf.d7313af9bab0e80b7149ee0a3c32caf8.jpg'  # Replace with the path to your image file\n",
    "# img = tf.keras.preprocessing.image.load_img(img_path, target_size=(139, 139))  # Load the image and resize\n",
    "# img_array = tf.keras.preprocessing.image.img_to_array(img)  # Convert image to array\n",
    "# img_array = tf.image.resize(img_array, (139, 139))  # Resize the image to match the model's input size\n",
    "# img_array = tf.expand_dims(img_array, axis=0)  # Add a batch dimension\n",
    "\n",
    "# # Get the predictions for the image\n",
    "# predictions = model.predict(img_array)\n",
    "# predicted_class = tf.argmax(predictions[0])"
   ]
  },
  {
   "cell_type": "code",
   "execution_count": 14,
   "id": "bed46c40",
   "metadata": {
    "execution": {
     "iopub.execute_input": "2023-12-09T08:10:42.116627Z",
     "iopub.status.busy": "2023-12-09T08:10:42.116359Z",
     "iopub.status.idle": "2023-12-09T08:10:42.121351Z",
     "shell.execute_reply": "2023-12-09T08:10:42.120453Z"
    },
    "papermill": {
     "duration": 0.034904,
     "end_time": "2023-12-09T08:10:42.123355",
     "exception": false,
     "start_time": "2023-12-09T08:10:42.088451",
     "status": "completed"
    },
    "tags": []
   },
   "outputs": [],
   "source": [
    "# # Get the predictions for the image\n",
    "# predictions = model.predict(img_array)\n",
    "# predicted_class = np.argmax(predictions[0])\n",
    "\n",
    "# # Generate the heatmap\n",
    "# last_conv_layer = model.get_layer('mixed10')  \n",
    "# heatmap_model = tf.keras.models.Model(model.inputs, [last_conv_layer.output, model.output])\n",
    "\n",
    "# with tf.GradientTape() as tape:\n",
    "#     conv_outputs, predictions = heatmap_model(img_array)\n",
    "#     loss = predictions[:, predicted_class]\n",
    "\n",
    "# grads = tape.gradient(loss, conv_outputs)\n",
    "# pooled_grads = tf.reduce_mean(grads, axis=(0, 1, 2))\n",
    "# heatmap = tf.reduce_mean(tf.multiply(pooled_grads, conv_outputs), axis=-1)\n",
    "# heatmap = np.maximum(heatmap, 0)\n",
    "\n",
    "# heatmap_resized = cv2.resize(heatmap, (img_array.shape[2], img_array.shape[1]))\n",
    "\n",
    "# # Convert both arrays to the same data type (e.g., unsigned 8-bit integer)\n",
    "# img_array_uint8 = (img_array[0].numpy() * 255).astype(np.uint8)\n",
    "# heatmap_resized_uint8 = (heatmap_resized * 255).astype(np.uint8)  # Adjust the range of heatmap values\n",
    "\n",
    "# # Overlay the heatmap on the original image\n",
    "# heatmap_resized_uint8 = cv2.applyColorMap(heatmap_resized_uint8, cv2.COLORMAP_JET)\n",
    "# superimposed_img = cv2.addWeighted(img_array_uint8, 0.6, heatmap_resized_uint8, 0.4, 0)\n",
    "\n"
   ]
  },
  {
   "cell_type": "code",
   "execution_count": 15,
   "id": "92c07ac1",
   "metadata": {
    "execution": {
     "iopub.execute_input": "2023-12-09T08:10:42.178311Z",
     "iopub.status.busy": "2023-12-09T08:10:42.178056Z",
     "iopub.status.idle": "2023-12-09T08:10:42.182441Z",
     "shell.execute_reply": "2023-12-09T08:10:42.181473Z"
    },
    "papermill": {
     "duration": 0.034066,
     "end_time": "2023-12-09T08:10:42.184343",
     "exception": false,
     "start_time": "2023-12-09T08:10:42.150277",
     "status": "completed"
    },
    "tags": []
   },
   "outputs": [],
   "source": [
    "# # Display the original image, heatmap, and overlay\n",
    "# plt.figure(figsize=(12, 6))\n",
    "\n",
    "# plt.subplot(131)\n",
    "# plt.imshow(img)\n",
    "# plt.title('Original Image')\n",
    "\n",
    "# plt.subplot(132)\n",
    "# plt.imshow(heatmap_resized_uint8)\n",
    "# plt.title('Heatmap')\n",
    "\n",
    "# plt.subplot(133)\n",
    "# plt.imshow(superimposed_img)\n",
    "# plt.title('Overlay')\n",
    "\n",
    "# plt.tight_layout()\n",
    "# plt.show()"
   ]
  }
 ],
 "metadata": {
  "kaggle": {
   "accelerator": "nvidiaTeslaT4",
   "dataSources": [
    {
     "datasetId": 2307840,
     "sourceId": 3883792,
     "sourceType": "datasetVersion"
    },
    {
     "datasetId": 3851613,
     "sourceId": 6675836,
     "sourceType": "datasetVersion"
    },
    {
     "datasetId": 4135083,
     "sourceId": 7159557,
     "sourceType": "datasetVersion"
    }
   ],
   "dockerImageVersionId": 30588,
   "isGpuEnabled": true,
   "isInternetEnabled": true,
   "language": "python",
   "sourceType": "notebook"
  },
  "kernelspec": {
   "display_name": "Python 3",
   "language": "python",
   "name": "python3"
  },
  "language_info": {
   "codemirror_mode": {
    "name": "ipython",
    "version": 3
   },
   "file_extension": ".py",
   "mimetype": "text/x-python",
   "name": "python",
   "nbconvert_exporter": "python",
   "pygments_lexer": "ipython3",
   "version": "3.10.12"
  },
  "papermill": {
   "default_parameters": {},
   "duration": 373.64988,
   "end_time": "2023-12-09T08:10:45.688074",
   "environment_variables": {},
   "exception": null,
   "input_path": "__notebook__.ipynb",
   "output_path": "__notebook__.ipynb",
   "parameters": {},
   "start_time": "2023-12-09T08:04:32.038194",
   "version": "2.4.0"
  }
 },
 "nbformat": 4,
 "nbformat_minor": 5
}
